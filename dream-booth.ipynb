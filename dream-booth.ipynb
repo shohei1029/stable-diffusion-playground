{
  "cells": [
    {
      "cell_type": "markdown",
      "metadata": {},
      "source": [
        "# Try DreamBooth with my profile photos\n",
        "Note: This notebook isn't runnable since there are no training images in the repo.\n",
        "Please use the repo just for reference.\n",
        "\n",
        "## Overview\n",
        "Fine-tuning the Stable Diffusion 1.5 model with my 30 profile photos.\n",
        "Training the model with the setting of 14 epochs and 28 epochs.\n",
        "\n",
        "## Example repo\n",
        "https://github.com/huggingface/diffusers/tree/main/examples/dreambooth\n",
        "\n",
        "## Prerequisites\n",
        "- VRAM 16GB GPU\n",
        "\n",
        "## Setup environment\n",
        "```bash\n",
        "git clone git@github.com:huggingface/diffusers.git\n",
        "pip install -U -r diffusers/examples/dreambooth/requirements.txt\n",
        "pip install git+https://github.com/huggingface/diffusers\n",
        "\n",
        "pip install bitsandbytes # to use --use_8bit_adam option\n",
        "pip install scipy\n",
        "\n",
        "accelerate config default\n",
        "```\n",
        "\n",
        "## Prep for HuggingFace repo\n",
        "Get hugging face token with write permission from\n",
        "https://huggingface.co/settings/tokens"
      ]
    },
    {
      "cell_type": "code",
      "execution_count": null,
      "metadata": {},
      "outputs": [],
      "source": [
        "!conda activate sd\n",
        "!huggingface-cli login #you need to get your token with write permission\n",
        "!cd diffusers/examples/dreambooth"
      ]
    },
    {
      "cell_type": "markdown",
      "metadata": {
        "nteract": {
          "transient": {
            "deleting": false
          }
        }
      },
      "source": [
        "# Train (14 epoch)\n",
        "Use `--gradient_checkpointing` and `--use_8bit_adam` option to train on 16GB VRAM GPU."
      ]
    },
    {
      "cell_type": "markdown",
      "metadata": {
        "nteract": {
          "transient": {
            "deleting": false
          }
        }
      },
      "source": [
        "```bash\n",
        "export MODEL_NAME=\"runwayml/stable-diffusion-v1-5\"\n",
        "export INSTANCE_DIR=\"photo-shohei\"\n",
        "export OUTPUT_DIR=\"dreambooth-shohei-14\"\n",
        "\n",
        "accelerate launch train_dreambooth.py \\\n",
        "  --pretrained_model_name_or_path=$MODEL_NAME  \\\n",
        "  --instance_data_dir=$INSTANCE_DIR \\\n",
        "  --output_dir=$OUTPUT_DIR \\\n",
        "  --instance_prompt=\"Full body profile photo of a man shohei in various situation\" \\\n",
        "  --resolution=512 \\\n",
        "  --train_batch_size=1 \\\n",
        "  --gradient_accumulation_steps=1 \\\n",
        "  --learning_rate=5e-6 \\\n",
        "  --lr_scheduler=\"constant\" \\\n",
        "  --lr_warmup_steps=0 \\\n",
        "  --max_train_steps=400 \\\n",
        "  --push_to_hub \\\n",
        "  --gradient_checkpointing \\\n",
        "  --use_8bit_adam\n",
        "```"
      ]
    },
    {
      "cell_type": "markdown",
      "metadata": {
        "nteract": {
          "transient": {
            "deleting": false
          }
        }
      },
      "source": [
        "# Train (28 epochs)\n",
        "`max_train_steps` overrides `num_train_epochs`"
      ]
    },
    {
      "cell_type": "markdown",
      "metadata": {
        "nteract": {
          "transient": {
            "deleting": false
          }
        }
      },
      "source": [
        "```bash\n",
        "export MODEL_NAME=\"runwayml/stable-diffusion-v1-5\"\n",
        "export INSTANCE_DIR=\"photo-shohei\"\n",
        "export OUTPUT_DIR=\"dreambooth-shohei-28epochs\"\n",
        "\n",
        "accelerate launch train_dreambooth.py \\\n",
        "  --pretrained_model_name_or_path=$MODEL_NAME  \\\n",
        "  --instance_data_dir=$INSTANCE_DIR \\\n",
        "  --output_dir=$OUTPUT_DIR \\\n",
        "  --instance_prompt=\"Full body profile photo of the same person in various situation\" \\\n",
        "  --resolution=512 \\\n",
        "  --train_batch_size=1 \\\n",
        "  --gradient_accumulation_steps=1 \\\n",
        "  --learning_rate=5e-6 \\\n",
        "  --lr_scheduler=\"constant\" \\\n",
        "  --lr_warmup_steps=0 \\\n",
        "  --push_to_hub \\\n",
        "  --gradient_checkpointing \\\n",
        "  --use_8bit_adam \\\n",
        "  --num_train_epochs 28\n",
        "  ```"
      ]
    },
    {
      "cell_type": "markdown",
      "metadata": {
        "nteract": {
          "transient": {
            "deleting": false
          }
        }
      },
      "source": [
        "# Inference\n",
        "Change the `model_id` and `prompt` strings to change the model and prompt."
      ]
    },
    {
      "cell_type": "code",
      "execution_count": 37,
      "metadata": {
        "gather": {
          "logged": 1692720116587
        },
        "vscode": {
          "languageId": "shellscript"
        }
      },
      "outputs": [
        {
          "data": {
            "application/vnd.jupyter.widget-view+json": {
              "model_id": "7a04e0de1d934de18fe7f2c5df3c115a",
              "version_major": 2,
              "version_minor": 0
            },
            "text/plain": [
              "Loading pipeline components...:   0%|          | 0/7 [00:00<?, ?it/s]"
            ]
          },
          "metadata": {},
          "output_type": "display_data"
        },
        {
          "data": {
            "application/vnd.jupyter.widget-view+json": {
              "model_id": "170d29e8e7b04b85827c4e83d8cd04b5",
              "version_major": 2,
              "version_minor": 0
            },
            "text/plain": [
              "  0%|          | 0/50 [00:00<?, ?it/s]"
            ]
          },
          "metadata": {},
          "output_type": "display_data"
        }
      ],
      "source": [
        "import os\n",
        "from diffusers import StableDiffusionPipeline\n",
        "import torch\n",
        "\n",
        "model_id = \"shohei1029/dreambooth-shohei-28\"\n",
        "prompt = \"Profile image of shohei in Ukiyoe style\"\n",
        "\n",
        "pipe = StableDiffusionPipeline.from_pretrained(model_id, torch_dtype=torch.float16).to(\"cuda\")\n",
        "image = pipe(prompt, num_inference_steps=50, guidance_scale=7.5).images[0]\n",
        "\n",
        "output_name = prompt.replace(\" \", \"_\")\n",
        "output_dir_ = model_id.split(\"/\")[-1]\n",
        "output_dir = f\"outputs/{output_dir_}/\"\n",
        "os.makedirs(output_dir, exist_ok=True)\n",
        "\n",
        "image.save(f\"{output_dir}/{output_name}.png\")"
      ]
    }
  ],
  "metadata": {
    "kernel_info": {
      "name": "sai01"
    },
    "kernelspec": {
      "display_name": "sai01",
      "language": "python",
      "name": "sai01"
    },
    "language_info": {
      "codemirror_mode": {
        "name": "ipython",
        "version": 3
      },
      "file_extension": ".py",
      "mimetype": "text/x-python",
      "name": "python",
      "nbconvert_exporter": "python",
      "pygments_lexer": "ipython3",
      "version": "3.10.11"
    },
    "nteract": {
      "version": "nteract-front-end@1.0.0"
    }
  },
  "nbformat": 4,
  "nbformat_minor": 2
}
